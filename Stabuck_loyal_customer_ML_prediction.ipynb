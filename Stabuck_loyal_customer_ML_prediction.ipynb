{
  "nbformat": 4,
  "nbformat_minor": 0,
  "metadata": {
    "colab": {
      "name": "Stabuck loyal customer ML prediction.ipynb",
      "provenance": [],
      "collapsed_sections": [],
      "include_colab_link": true
    },
    "kernelspec": {
      "name": "python3",
      "display_name": "Python 3"
    }
  },
  "cells": [
    {
      "cell_type": "markdown",
      "metadata": {
        "id": "view-in-github",
        "colab_type": "text"
      },
      "source": [
        "<a href=\"https://colab.research.google.com/github/Panuvat-Dan/Stabuck_analysis_loyalprediction/blob/main/Stabuck_loyal_customer_ML_prediction.ipynb\" target=\"_parent\"><img src=\"https://colab.research.google.com/assets/colab-badge.svg\" alt=\"Open In Colab\"/></a>"
      ]
    },
    {
      "cell_type": "markdown",
      "metadata": {
        "id": "awSxfB2qXeCD"
      },
      "source": [
        "Hello my name is Panuvat Danvorapong and I am going to predict these dataset which I've pull from internet and I think it comes from Malaysia. Therefore, I can't find the reference please feel free to inbox if it is illegal data-set. \n",
        "\n",
        "**Ojective is to predict the loyal customer that they will continue loyaling to Starbuck or not by setting target variable as loyal and others such as timespending at shop,gender,how often you go to shop, income and so on to be features by using supervised machine learning algortihms which is lgoistic regrssion classification method.**"
      ]
    },
    {
      "cell_type": "markdown",
      "metadata": {
        "id": "ay_vA7-UHng5"
      },
      "source": [
        "# 1.Data Preprocessing"
      ]
    },
    {
      "cell_type": "markdown",
      "metadata": {
        "id": "EoRP98MpR-qj"
      },
      "source": [
        "## 1.1Importing the libraries"
      ]
    },
    {
      "cell_type": "code",
      "metadata": {
        "id": "N-qiINBQSK2g"
      },
      "source": [
        "import numpy as np\n",
        "import matplotlib.pyplot as plt\n",
        "import pandas as pd\n",
        "import seaborn as sns"
      ],
      "execution_count": 9,
      "outputs": []
    },
    {
      "cell_type": "markdown",
      "metadata": {
        "id": "RopL7tUZSQkT"
      },
      "source": [
        "## 1.2Importing the dataset"
      ]
    },
    {
      "cell_type": "code",
      "metadata": {
        "id": "WwEPNDWySTKm"
      },
      "source": [
        "dataset = pd.read_csv('Starbucks satisfactory survey.csv')\n",
        "X = dataset.iloc[:, :-1].values # independent column\n",
        "y = dataset.iloc[:, -1].values # target column"
      ],
      "execution_count": 4,
      "outputs": []
    },
    {
      "cell_type": "code",
      "metadata": {
        "id": "hCsz2yCebe1R",
        "colab": {
          "base_uri": "https://localhost:8080/"
        },
        "outputId": "e4582ee4-32cc-4b7c-b2f6-410e51339d07"
      },
      "source": [
        "print(X)"
      ],
      "execution_count": 5,
      "outputs": [
        {
          "output_type": "stream",
          "text": [
            "[['2019/10/01 12:38:43 PM GMT+8' 'Female' 'From 20 to 29' ... 4 3\n",
            "  'Starbucks Website/Apps;Social Media;Emails;Deal sites (fave, iprice, etc...)']\n",
            " ['2019/10/01 12:38:54 PM GMT+8' 'Female' 'From 20 to 29' ... 5 2\n",
            "  'Social Media;In Store displays']\n",
            " ['2019/10/01 12:38:56 PM GMT+8' 'Male' 'From 20 to 29' ... 4 3\n",
            "  'In Store displays;Billboards']\n",
            " ...\n",
            " ['2019/10/04 1:46:07 PM GMT+8' 'Male' 'From 20 to 29' ... 3 4\n",
            "  'Social Media;Through friends and word of mouth;In Store displays']\n",
            " ['2019/10/05 11:01:14 AM GMT+8' 'Female' 'From 20 to 29' ... 4 4\n",
            "  'Social Media;Through friends and word of mouth;Billboards']\n",
            " ['2019/10/05 4:57:22 PM GMT+8' 'Male' 'From 20 to 29' ... 3 2\n",
            "  'In Store displays']]\n"
          ],
          "name": "stdout"
        }
      ]
    },
    {
      "cell_type": "code",
      "metadata": {
        "id": "eYrOQ43XcJR3",
        "colab": {
          "base_uri": "https://localhost:8080/"
        },
        "outputId": "8b619ac2-0a74-47a1-c298-58b77ec20249"
      },
      "source": [
        "print(y)"
      ],
      "execution_count": 6,
      "outputs": [
        {
          "output_type": "stream",
          "text": [
            "['Yes' 'Yes' 'Yes' 'No' 'Yes' 'Yes' 'Yes' 'Yes' 'Yes' 'Yes' 'Yes' 'No'\n",
            " 'Yes' 'Yes' 'No' 'No' 'Yes' 'Yes' 'Yes' 'Yes' 'No' 'Yes' 'No' 'Yes' 'Yes'\n",
            " 'Yes' 'No' 'Yes' 'Yes' 'Yes' 'Yes' 'Yes' 'Yes' 'No' 'Yes' 'No' 'Yes'\n",
            " 'Yes' 'Yes' 'Yes' 'Yes' 'Yes' 'Yes' 'Yes' 'Yes' 'Yes' 'Yes' 'Yes' 'Yes'\n",
            " 'Yes' 'Yes' 'No' 'Yes' 'Yes' 'Yes' 'Yes' 'Yes' 'Yes' 'Yes' 'Yes' 'Yes'\n",
            " 'Yes' 'Yes' 'Yes' 'No' 'No' 'Yes' 'No' 'No' 'Yes' 'Yes' 'Yes' 'Yes' 'Yes'\n",
            " 'Yes' 'Yes' 'Yes' 'Yes' 'No' 'No' 'No' 'No' 'Yes' 'Yes' 'No' 'Yes' 'Yes'\n",
            " 'Yes' 'Yes' 'Yes' 'Yes' 'Yes' 'No' 'Yes' 'Yes' 'Yes' 'Yes' 'Yes' 'Yes'\n",
            " 'Yes' 'Yes' 'Yes' 'Yes' 'Yes' 'No' 'Yes' 'Yes' 'Yes' 'No' 'No' 'No' 'Yes'\n",
            " 'No' 'Yes' 'No' 'Yes' 'Yes' 'Yes' 'Yes' 'No' 'Yes' 'No']\n"
          ],
          "name": "stdout"
        }
      ]
    },
    {
      "cell_type": "markdown",
      "metadata": {
        "id": "aWFPKeThGWs7"
      },
      "source": [
        "## 1.3Data exploration"
      ]
    },
    {
      "cell_type": "markdown",
      "metadata": {
        "id": "J3hnUYiYGycQ"
      },
      "source": [
        "#### 1.3.1 Explore basic descriptive statistic"
      ]
    },
    {
      "cell_type": "code",
      "metadata": {
        "colab": {
          "base_uri": "https://localhost:8080/"
        },
        "id": "7shdseuXHSEH",
        "outputId": "93084ab4-470b-47eb-a021-a9fd1a246075"
      },
      "source": [
        "dataset.shape"
      ],
      "execution_count": 10,
      "outputs": [
        {
          "output_type": "execute_result",
          "data": {
            "text/plain": [
              "(122, 21)"
            ]
          },
          "metadata": {
            "tags": []
          },
          "execution_count": 10
        }
      ]
    },
    {
      "cell_type": "code",
      "metadata": {
        "colab": {
          "base_uri": "https://localhost:8080/",
          "height": 310
        },
        "id": "SCLgx6KUGf9Q",
        "outputId": "1567f007-e054-4148-d99f-2096f2ae8332"
      },
      "source": [
        "dataset.describe()"
      ],
      "execution_count": 8,
      "outputs": [
        {
          "output_type": "execute_result",
          "data": {
            "text/html": [
              "<div>\n",
              "<style scoped>\n",
              "    .dataframe tbody tr th:only-of-type {\n",
              "        vertical-align: middle;\n",
              "    }\n",
              "\n",
              "    .dataframe tbody tr th {\n",
              "        vertical-align: top;\n",
              "    }\n",
              "\n",
              "    .dataframe thead th {\n",
              "        text-align: right;\n",
              "    }\n",
              "</style>\n",
              "<table border=\"1\" class=\"dataframe\">\n",
              "  <thead>\n",
              "    <tr style=\"text-align: right;\">\n",
              "      <th></th>\n",
              "      <th>12. How would you rate the quality of Starbucks compared to other brands (Coffee Bean, Old Town White Coffee..) to be:</th>\n",
              "      <th>13. How would you rate the price range at Starbucks?</th>\n",
              "      <th>14. How important are sales and promotions in your purchase decision?</th>\n",
              "      <th>15. How would you rate the ambiance at Starbucks? (lighting, music, etc...)</th>\n",
              "      <th>16. You rate the WiFi quality at Starbucks as..</th>\n",
              "      <th>17. How would you rate the service at Starbucks? (Promptness, friendliness, etc..)</th>\n",
              "      <th>18. How likely you will choose Starbucks for doing business meetings or hangout with friends?</th>\n",
              "    </tr>\n",
              "  </thead>\n",
              "  <tbody>\n",
              "    <tr>\n",
              "      <th>count</th>\n",
              "      <td>122.000000</td>\n",
              "      <td>122.000000</td>\n",
              "      <td>122.000000</td>\n",
              "      <td>122.000000</td>\n",
              "      <td>122.000000</td>\n",
              "      <td>122.000000</td>\n",
              "      <td>122.000000</td>\n",
              "    </tr>\n",
              "    <tr>\n",
              "      <th>mean</th>\n",
              "      <td>3.663934</td>\n",
              "      <td>2.893443</td>\n",
              "      <td>3.795082</td>\n",
              "      <td>3.754098</td>\n",
              "      <td>3.254098</td>\n",
              "      <td>3.745902</td>\n",
              "      <td>3.516393</td>\n",
              "    </tr>\n",
              "    <tr>\n",
              "      <th>std</th>\n",
              "      <td>0.941343</td>\n",
              "      <td>1.081836</td>\n",
              "      <td>1.090443</td>\n",
              "      <td>0.929867</td>\n",
              "      <td>0.958317</td>\n",
              "      <td>0.828834</td>\n",
              "      <td>1.030394</td>\n",
              "    </tr>\n",
              "    <tr>\n",
              "      <th>min</th>\n",
              "      <td>1.000000</td>\n",
              "      <td>1.000000</td>\n",
              "      <td>1.000000</td>\n",
              "      <td>1.000000</td>\n",
              "      <td>1.000000</td>\n",
              "      <td>1.000000</td>\n",
              "      <td>1.000000</td>\n",
              "    </tr>\n",
              "    <tr>\n",
              "      <th>25%</th>\n",
              "      <td>3.000000</td>\n",
              "      <td>2.000000</td>\n",
              "      <td>3.000000</td>\n",
              "      <td>3.000000</td>\n",
              "      <td>3.000000</td>\n",
              "      <td>3.000000</td>\n",
              "      <td>3.000000</td>\n",
              "    </tr>\n",
              "    <tr>\n",
              "      <th>50%</th>\n",
              "      <td>4.000000</td>\n",
              "      <td>3.000000</td>\n",
              "      <td>4.000000</td>\n",
              "      <td>4.000000</td>\n",
              "      <td>3.000000</td>\n",
              "      <td>4.000000</td>\n",
              "      <td>4.000000</td>\n",
              "    </tr>\n",
              "    <tr>\n",
              "      <th>75%</th>\n",
              "      <td>4.000000</td>\n",
              "      <td>4.000000</td>\n",
              "      <td>5.000000</td>\n",
              "      <td>4.000000</td>\n",
              "      <td>4.000000</td>\n",
              "      <td>4.000000</td>\n",
              "      <td>4.000000</td>\n",
              "    </tr>\n",
              "    <tr>\n",
              "      <th>max</th>\n",
              "      <td>5.000000</td>\n",
              "      <td>5.000000</td>\n",
              "      <td>5.000000</td>\n",
              "      <td>5.000000</td>\n",
              "      <td>5.000000</td>\n",
              "      <td>5.000000</td>\n",
              "      <td>5.000000</td>\n",
              "    </tr>\n",
              "  </tbody>\n",
              "</table>\n",
              "</div>"
            ],
            "text/plain": [
              "       12. How would you rate the quality of Starbucks compared to other brands (Coffee Bean, Old Town White Coffee..) to be:  ...  18. How likely you will choose Starbucks for doing business meetings or hangout with friends?\n",
              "count                                         122.000000                                                                       ...                                         122.000000                                            \n",
              "mean                                            3.663934                                                                       ...                                           3.516393                                            \n",
              "std                                             0.941343                                                                       ...                                           1.030394                                            \n",
              "min                                             1.000000                                                                       ...                                           1.000000                                            \n",
              "25%                                             3.000000                                                                       ...                                           3.000000                                            \n",
              "50%                                             4.000000                                                                       ...                                           4.000000                                            \n",
              "75%                                             4.000000                                                                       ...                                           4.000000                                            \n",
              "max                                             5.000000                                                                       ...                                           5.000000                                            \n",
              "\n",
              "[8 rows x 7 columns]"
            ]
          },
          "metadata": {
            "tags": []
          },
          "execution_count": 8
        }
      ]
    },
    {
      "cell_type": "code",
      "metadata": {
        "colab": {
          "base_uri": "https://localhost:8080/",
          "height": 682
        },
        "id": "QmFrghWpM_cK",
        "outputId": "6e205ce3-5db2-4159-eac1-19ec81fe6b44"
      },
      "source": [
        "dataset.head()"
      ],
      "execution_count": 11,
      "outputs": [
        {
          "output_type": "execute_result",
          "data": {
            "text/html": [
              "<div>\n",
              "<style scoped>\n",
              "    .dataframe tbody tr th:only-of-type {\n",
              "        vertical-align: middle;\n",
              "    }\n",
              "\n",
              "    .dataframe tbody tr th {\n",
              "        vertical-align: top;\n",
              "    }\n",
              "\n",
              "    .dataframe thead th {\n",
              "        text-align: right;\n",
              "    }\n",
              "</style>\n",
              "<table border=\"1\" class=\"dataframe\">\n",
              "  <thead>\n",
              "    <tr style=\"text-align: right;\">\n",
              "      <th></th>\n",
              "      <th>Timestamp</th>\n",
              "      <th>1. Your Gender</th>\n",
              "      <th>2. Your Age</th>\n",
              "      <th>3. Are you currently....?</th>\n",
              "      <th>4. What is your annual income?</th>\n",
              "      <th>5. How often do you visit Starbucks?</th>\n",
              "      <th>6. How do you usually enjoy Starbucks?</th>\n",
              "      <th>7. How much time do you normally  spend during your visit?</th>\n",
              "      <th>8. The nearest Starbucks's outlet to you is...?</th>\n",
              "      <th>9. Do you have Starbucks membership card?</th>\n",
              "      <th>10. What do you most frequently purchase at Starbucks?</th>\n",
              "      <th>11. On average, how much would you spend at Starbucks per visit?</th>\n",
              "      <th>12. How would you rate the quality of Starbucks compared to other brands (Coffee Bean, Old Town White Coffee..) to be:</th>\n",
              "      <th>13. How would you rate the price range at Starbucks?</th>\n",
              "      <th>14. How important are sales and promotions in your purchase decision?</th>\n",
              "      <th>15. How would you rate the ambiance at Starbucks? (lighting, music, etc...)</th>\n",
              "      <th>16. You rate the WiFi quality at Starbucks as..</th>\n",
              "      <th>17. How would you rate the service at Starbucks? (Promptness, friendliness, etc..)</th>\n",
              "      <th>18. How likely you will choose Starbucks for doing business meetings or hangout with friends?</th>\n",
              "      <th>19. How do you come to hear of promotions at Starbucks? Check all that apply.</th>\n",
              "      <th>20. Will you continue buying at Starbucks?</th>\n",
              "    </tr>\n",
              "  </thead>\n",
              "  <tbody>\n",
              "    <tr>\n",
              "      <th>0</th>\n",
              "      <td>2019/10/01 12:38:43 PM GMT+8</td>\n",
              "      <td>Female</td>\n",
              "      <td>From 20 to 29</td>\n",
              "      <td>Student</td>\n",
              "      <td>Less than RM25,000</td>\n",
              "      <td>Rarely</td>\n",
              "      <td>Dine in</td>\n",
              "      <td>Between 30 minutes to 1 hour</td>\n",
              "      <td>within 1km</td>\n",
              "      <td>Yes</td>\n",
              "      <td>Coffee</td>\n",
              "      <td>Less than RM20</td>\n",
              "      <td>4</td>\n",
              "      <td>3</td>\n",
              "      <td>5</td>\n",
              "      <td>5</td>\n",
              "      <td>4</td>\n",
              "      <td>4</td>\n",
              "      <td>3</td>\n",
              "      <td>Starbucks Website/Apps;Social Media;Emails;Dea...</td>\n",
              "      <td>Yes</td>\n",
              "    </tr>\n",
              "    <tr>\n",
              "      <th>1</th>\n",
              "      <td>2019/10/01 12:38:54 PM GMT+8</td>\n",
              "      <td>Female</td>\n",
              "      <td>From 20 to 29</td>\n",
              "      <td>Student</td>\n",
              "      <td>Less than RM25,000</td>\n",
              "      <td>Rarely</td>\n",
              "      <td>Take away</td>\n",
              "      <td>Below 30 minutes</td>\n",
              "      <td>1km - 3km</td>\n",
              "      <td>Yes</td>\n",
              "      <td>Cold drinks;Pastries</td>\n",
              "      <td>Less than RM20</td>\n",
              "      <td>4</td>\n",
              "      <td>3</td>\n",
              "      <td>4</td>\n",
              "      <td>4</td>\n",
              "      <td>4</td>\n",
              "      <td>5</td>\n",
              "      <td>2</td>\n",
              "      <td>Social Media;In Store displays</td>\n",
              "      <td>Yes</td>\n",
              "    </tr>\n",
              "    <tr>\n",
              "      <th>2</th>\n",
              "      <td>2019/10/01 12:38:56 PM GMT+8</td>\n",
              "      <td>Male</td>\n",
              "      <td>From 20 to 29</td>\n",
              "      <td>Employed</td>\n",
              "      <td>Less than RM25,000</td>\n",
              "      <td>Monthly</td>\n",
              "      <td>Dine in</td>\n",
              "      <td>Between 30 minutes to 1 hour</td>\n",
              "      <td>more than 3km</td>\n",
              "      <td>Yes</td>\n",
              "      <td>Coffee</td>\n",
              "      <td>Less than RM20</td>\n",
              "      <td>4</td>\n",
              "      <td>3</td>\n",
              "      <td>4</td>\n",
              "      <td>4</td>\n",
              "      <td>4</td>\n",
              "      <td>4</td>\n",
              "      <td>3</td>\n",
              "      <td>In Store displays;Billboards</td>\n",
              "      <td>Yes</td>\n",
              "    </tr>\n",
              "    <tr>\n",
              "      <th>3</th>\n",
              "      <td>2019/10/01 12:39:08 PM GMT+8</td>\n",
              "      <td>Female</td>\n",
              "      <td>From 20 to 29</td>\n",
              "      <td>Student</td>\n",
              "      <td>Less than RM25,000</td>\n",
              "      <td>Rarely</td>\n",
              "      <td>Take away</td>\n",
              "      <td>Below 30 minutes</td>\n",
              "      <td>more than 3km</td>\n",
              "      <td>No</td>\n",
              "      <td>Coffee</td>\n",
              "      <td>Less than RM20</td>\n",
              "      <td>2</td>\n",
              "      <td>1</td>\n",
              "      <td>4</td>\n",
              "      <td>3</td>\n",
              "      <td>3</td>\n",
              "      <td>3</td>\n",
              "      <td>3</td>\n",
              "      <td>Through friends and word of mouth</td>\n",
              "      <td>No</td>\n",
              "    </tr>\n",
              "    <tr>\n",
              "      <th>4</th>\n",
              "      <td>2019/10/01 12:39:20 PM GMT+8</td>\n",
              "      <td>Male</td>\n",
              "      <td>From 20 to 29</td>\n",
              "      <td>Student</td>\n",
              "      <td>Less than RM25,000</td>\n",
              "      <td>Monthly</td>\n",
              "      <td>Take away</td>\n",
              "      <td>Between 30 minutes to 1 hour</td>\n",
              "      <td>1km - 3km</td>\n",
              "      <td>No</td>\n",
              "      <td>Coffee;Sandwiches</td>\n",
              "      <td>Around RM20 - RM40</td>\n",
              "      <td>3</td>\n",
              "      <td>3</td>\n",
              "      <td>4</td>\n",
              "      <td>2</td>\n",
              "      <td>2</td>\n",
              "      <td>3</td>\n",
              "      <td>3</td>\n",
              "      <td>Starbucks Website/Apps;Social Media</td>\n",
              "      <td>Yes</td>\n",
              "    </tr>\n",
              "  </tbody>\n",
              "</table>\n",
              "</div>"
            ],
            "text/plain": [
              "                      Timestamp  ... 20. Will you continue buying at Starbucks?\n",
              "0  2019/10/01 12:38:43 PM GMT+8  ...                                        Yes\n",
              "1  2019/10/01 12:38:54 PM GMT+8  ...                                        Yes\n",
              "2  2019/10/01 12:38:56 PM GMT+8  ...                                        Yes\n",
              "3  2019/10/01 12:39:08 PM GMT+8  ...                                         No\n",
              "4  2019/10/01 12:39:20 PM GMT+8  ...                                        Yes\n",
              "\n",
              "[5 rows x 21 columns]"
            ]
          },
          "metadata": {
            "tags": []
          },
          "execution_count": 11
        }
      ]
    },
    {
      "cell_type": "markdown",
      "metadata": {
        "id": "nhfKXNxlSabC"
      },
      "source": [
        "#### 1.3.2 Find missing data"
      ]
    },
    {
      "cell_type": "code",
      "metadata": {
        "colab": {
          "base_uri": "https://localhost:8080/"
        },
        "id": "jn3yIkyiNUoe",
        "outputId": "94d095ea-ddc3-4da1-8b3b-7ff4b63dc6ee"
      },
      "source": [
        "dataset.info()"
      ],
      "execution_count": 12,
      "outputs": [
        {
          "output_type": "stream",
          "text": [
            "<class 'pandas.core.frame.DataFrame'>\n",
            "RangeIndex: 122 entries, 0 to 121\n",
            "Data columns (total 21 columns):\n",
            " #   Column                                                                                                                  Non-Null Count  Dtype \n",
            "---  ------                                                                                                                  --------------  ----- \n",
            " 0   Timestamp                                                                                                               122 non-null    object\n",
            " 1   1. Your Gender                                                                                                          122 non-null    object\n",
            " 2   2. Your Age                                                                                                             122 non-null    object\n",
            " 3   3. Are you currently....?                                                                                               122 non-null    object\n",
            " 4   4. What is your annual income?                                                                                          122 non-null    object\n",
            " 5   5. How often do you visit Starbucks?                                                                                    122 non-null    object\n",
            " 6   6. How do you usually enjoy Starbucks?                                                                                  121 non-null    object\n",
            " 7   7. How much time do you normally  spend during your visit?                                                              122 non-null    object\n",
            " 8   8. The nearest Starbucks's outlet to you is...?                                                                         122 non-null    object\n",
            " 9   9. Do you have Starbucks membership card?                                                                               122 non-null    object\n",
            " 10  10. What do you most frequently purchase at Starbucks?                                                                  122 non-null    object\n",
            " 11  11. On average, how much would you spend at Starbucks per visit?                                                        122 non-null    object\n",
            " 12  12. How would you rate the quality of Starbucks compared to other brands (Coffee Bean, Old Town White Coffee..) to be:  122 non-null    int64 \n",
            " 13  13. How would you rate the price range at Starbucks?                                                                    122 non-null    int64 \n",
            " 14  14. How important are sales and promotions in your purchase decision?                                                   122 non-null    int64 \n",
            " 15  15. How would you rate the ambiance at Starbucks? (lighting, music, etc...)                                             122 non-null    int64 \n",
            " 16  16. You rate the WiFi quality at Starbucks as..                                                                         122 non-null    int64 \n",
            " 17  17. How would you rate the service at Starbucks? (Promptness, friendliness, etc..)                                      122 non-null    int64 \n",
            " 18  18. How likely you will choose Starbucks for doing business meetings or hangout with friends?                           122 non-null    int64 \n",
            " 19  19. How do you come to hear of promotions at Starbucks? Check all that apply.                                           121 non-null    object\n",
            " 20  20. Will you continue buying at Starbucks?                                                                              122 non-null    object\n",
            "dtypes: int64(7), object(14)\n",
            "memory usage: 20.1+ KB\n"
          ],
          "name": "stdout"
        }
      ]
    },
    {
      "cell_type": "markdown",
      "metadata": {
        "id": "x9me61yANXrR"
      },
      "source": [
        "There are 7 numerical columns and 14 catagorical columns in this starbuck sastifactory dataset"
      ]
    },
    {
      "cell_type": "code",
      "metadata": {
        "id": "c93k7ipkSexq",
        "colab": {
          "base_uri": "https://localhost:8080/"
        },
        "outputId": "d3871f6e-b806-40fb-c092-4ceee42cd99b"
      },
      "source": [
        "dataset.isnull().sum()"
      ],
      "execution_count": 13,
      "outputs": [
        {
          "output_type": "execute_result",
          "data": {
            "text/plain": [
              "Timestamp                                                                                                                 0\n",
              "1. Your Gender                                                                                                            0\n",
              "2. Your Age                                                                                                               0\n",
              "3. Are you currently....?                                                                                                 0\n",
              "4. What is your annual income?                                                                                            0\n",
              "5. How often do you visit Starbucks?                                                                                      0\n",
              "6. How do you usually enjoy Starbucks?                                                                                    1\n",
              "7. How much time do you normally  spend during your visit?                                                                0\n",
              "8. The nearest Starbucks's outlet to you is...?                                                                           0\n",
              "9. Do you have Starbucks membership card?                                                                                 0\n",
              "10. What do you most frequently purchase at Starbucks?                                                                    0\n",
              "11. On average, how much would you spend at Starbucks per visit?                                                          0\n",
              "12. How would you rate the quality of Starbucks compared to other brands (Coffee Bean, Old Town White Coffee..) to be:    0\n",
              "13. How would you rate the price range at Starbucks?                                                                      0\n",
              "14. How important are sales and promotions in your purchase decision?                                                     0\n",
              "15. How would you rate the ambiance at Starbucks? (lighting, music, etc...)                                               0\n",
              "16. You rate the WiFi quality at Starbucks as..                                                                           0\n",
              "17. How would you rate the service at Starbucks? (Promptness, friendliness, etc..)                                        0\n",
              "18. How likely you will choose Starbucks for doing business meetings or hangout with friends?                             0\n",
              "19. How do you come to hear of promotions at Starbucks? Check all that apply.                                             1\n",
              "20. Will you continue buying at Starbucks?                                                                                0\n",
              "dtype: int64"
            ]
          },
          "metadata": {
            "tags": []
          },
          "execution_count": 13
        }
      ]
    },
    {
      "cell_type": "markdown",
      "metadata": {
        "id": "c-l44I0yFNsx"
      },
      "source": [
        "There are 2 missing value in column 6 and 19"
      ]
    },
    {
      "cell_type": "markdown",
      "metadata": {
        "id": "7QVlha7VYX3q"
      },
      "source": [
        "#### 1.3.3 Filter out indenpendent features by visualization several graphs\n",
        "\n",
        "notethat : I' ll reduce the independent variables by selecting the important varaibles easiest way. However, we could apply Recursive Feature Elimination , or even Tree-based feature selection futhur for very complex features selection but for reducing complexity. Therefore, I am going to reduce independent variable. The better selection of feature, the better model of machine learning "
      ]
    },
    {
      "cell_type": "markdown",
      "metadata": {
        "id": "4DTPUAapY2Yr"
      },
      "source": [
        "##### 1.3.3.1 Heatmap"
      ]
    },
    {
      "cell_type": "code",
      "metadata": {
        "colab": {
          "base_uri": "https://localhost:8080/",
          "height": 1000
        },
        "id": "sFOfx9GJYJsw",
        "outputId": "23d62cd3-98c7-439b-ab46-029d01770c82"
      },
      "source": [
        "plt.figure(figsize=(15,10))\n",
        "sns.heatmap(dataset.corr(),annot=True,linewidth=0.5,cmap='coolwarm')"
      ],
      "execution_count": 15,
      "outputs": [
        {
          "output_type": "execute_result",
          "data": {
            "text/plain": [
              "<matplotlib.axes._subplots.AxesSubplot at 0x7efd5ffd6780>"
            ]
          },
          "metadata": {
            "tags": []
          },
          "execution_count": 15
        },
        {
          "output_type": "display_data",
          "data": {
            "image/png": "[encoded data removed]",
            "text/plain": [
              "<Figure size 1080x720 with 2 Axes>"
            ]
          },
          "metadata": {
            "tags": [],
            "needs_background": "light"
          }
        }
      ]
    },
    {
      "cell_type": "markdown",
      "metadata": {
        "id": "-BBFOJ4vYzUw"
      },
      "source": [
        "##### 1.3.3.2 Quality rate VS loyalty\n",
        "\n",
        "We shall see there are people who give a high quality rate of Starbuck product on both loyal and unloyal to Starbuck. Moreover, people who give low quality rate is never loyal to Starbuck.   "
      ]
    },
    {
      "cell_type": "code",
      "metadata": {
        "colab": {
          "base_uri": "https://localhost:8080/",
          "height": 718
        },
        "id": "C6VTmtwFWhdS",
        "outputId": "2fbec311-6c65-4175-d82a-bead702b030f"
      },
      "source": [
        "sns.factorplot(data=dataset,y='12. How would you rate the quality of Starbucks compared to other brands (Coffee Bean, Old Town White Coffee..) to be:',x='20. Will you continue buying at Starbucks?',size=5,aspect=1,kind='box')\n",
        "plt.title(\"Quality rate Vs loyalty\")\n",
        "plt.show()"
      ],
      "execution_count": 16,
      "outputs": [
        {
          "output_type": "stream",
          "text": [
            "/usr/local/lib/python3.6/dist-packages/seaborn/categorical.py:3704: UserWarning: The `factorplot` function has been renamed to `catplot`. The original name will be removed in a future release. Please update your code. Note that the default `kind` in `factorplot` (`'point'`) has changed `'strip'` in `catplot`.\n",
            "  warnings.warn(msg)\n",
            "/usr/local/lib/python3.6/dist-packages/seaborn/categorical.py:3710: UserWarning: The `size` parameter has been renamed to `height`; please update your code.\n",
            "  warnings.warn(msg, UserWarning)\n"
          ],
          "name": "stderr"
        },
        {
          "output_type": "display_data",
          "data": {
            "image/png": "[encoded data removed]",
            "text/plain": [
              "<Figure size 360x360 with 1 Axes>"
            ]
          },
          "metadata": {
            "tags": [],
            "needs_background": "light"
          }
        }
      ]
    },
    {
      "cell_type": "markdown",
      "metadata": {
        "id": "D1rJ8Q0jzF0o"
      },
      "source": [
        "##### 1.3.3.3 Price range VS loyalty\n",
        "\n",
        "The interesting point is eventhough the Starbuck product is high,customers are still loyal to them."
      ]
    },
    {
      "cell_type": "code",
      "metadata": {
        "colab": {
          "base_uri": "https://localhost:8080/",
          "height": 450
        },
        "id": "eCVbxZ6L4Sod",
        "outputId": "c19b44f2-c613-4976-c73d-4bb4a35aa22a"
      },
      "source": [
        "sns.factorplot(data=dataset,kind='bar',x='20. Will you continue buying at Starbucks?',y='13. How would you rate the price range at Starbucks?')\n",
        "plt.title(\"Price range Vs Loyalty\")\n",
        "plt.show()"
      ],
      "execution_count": 17,
      "outputs": [
        {
          "output_type": "stream",
          "text": [
            "/usr/local/lib/python3.6/dist-packages/seaborn/categorical.py:3704: UserWarning: The `factorplot` function has been renamed to `catplot`. The original name will be removed in a future release. Please update your code. Note that the default `kind` in `factorplot` (`'point'`) has changed `'strip'` in `catplot`.\n",
            "  warnings.warn(msg)\n"
          ],
          "name": "stderr"
        },
        {
          "output_type": "display_data",
          "data": {
            "image/png": "[encoded data removed]",
            "text/plain": [
              "<Figure size 360x360 with 1 Axes>"
            ]
          },
          "metadata": {
            "tags": [],
            "needs_background": "light"
          }
        }
      ]
    },
    {
      "cell_type": "markdown",
      "metadata": {
        "id": "F-Wqa9pwlJGp"
      },
      "source": [
        "##### 1.3.3.4 Shop Environemt VS loyalty\n",
        "\n",
        "As you show, You can see that the value Yes/ No is almost eqaul to each others. Therefore, it is litterally mean that shop environment does not affect to customer loyalty."
      ]
    },
    {
      "cell_type": "code",
      "metadata": {
        "colab": {
          "base_uri": "https://localhost:8080/",
          "height": 455
        },
        "id": "K31te6o8lIuw",
        "outputId": "b1d52ceb-9f16-4828-ee66-33d7ee7516fb"
      },
      "source": [
        "sns.factorplot(data=dataset,kind='bar',x='20. Will you continue buying at Starbucks?',y='14. How important are sales and promotions in your purchase decision?')\n",
        "plt.title(\"Shop Environment Vs Loyalty\")\n",
        "plt.show()"
      ],
      "execution_count": 18,
      "outputs": [
        {
          "output_type": "stream",
          "text": [
            "/usr/local/lib/python3.6/dist-packages/seaborn/categorical.py:3704: UserWarning: The `factorplot` function has been renamed to `catplot`. The original name will be removed in a future release. Please update your code. Note that the default `kind` in `factorplot` (`'point'`) has changed `'strip'` in `catplot`.\n",
            "  warnings.warn(msg)\n"
          ],
          "name": "stderr"
        },
        {
          "output_type": "display_data",
          "data": {
            "image/png": "[encoded data removed]",
            "text/plain": [
              "<Figure size 360x360 with 1 Axes>"
            ]
          },
          "metadata": {
            "tags": [],
            "needs_background": "light"
          }
        }
      ]
    },
    {
      "cell_type": "markdown",
      "metadata": {
        "id": "KeNJSbLLlv7A"
      },
      "source": [
        "##### 1.3.3.5 Wifi quality VS loyalty\n",
        "\n",
        "As you show, You can see that the value Yes/ No is almost eqaul to each others. Therefore, it is litterally mean that wifi quality does not affect to customer loyalty."
      ]
    },
    {
      "cell_type": "code",
      "metadata": {
        "colab": {
          "base_uri": "https://localhost:8080/",
          "height": 451
        },
        "id": "83YUdylPlwNq",
        "outputId": "1a4e7099-46d2-4d77-9da0-201e67ec637e"
      },
      "source": [
        "sns.factorplot(data=dataset,kind='bar',x='20. Will you continue buying at Starbucks?',y='16. You rate the WiFi quality at Starbucks as..')\n",
        "plt.title(\"Wifi quality Vs Loyalty\")\n",
        "plt.show()"
      ],
      "execution_count": 19,
      "outputs": [
        {
          "output_type": "stream",
          "text": [
            "/usr/local/lib/python3.6/dist-packages/seaborn/categorical.py:3704: UserWarning: The `factorplot` function has been renamed to `catplot`. The original name will be removed in a future release. Please update your code. Note that the default `kind` in `factorplot` (`'point'`) has changed `'strip'` in `catplot`.\n",
            "  warnings.warn(msg)\n"
          ],
          "name": "stderr"
        },
        {
          "output_type": "display_data",
          "data": {
            "image/png": "[encoded data removed]",
            "text/plain": [
              "<Figure size 360x360 with 1 Axes>"
            ]
          },
          "metadata": {
            "tags": [],
            "needs_background": "light"
          }
        }
      ]
    },
    {
      "cell_type": "markdown",
      "metadata": {
        "id": "TNh5HnZvmK2s"
      },
      "source": [
        "##### 1.3.3.6 Staff service VS loyalty\n",
        "\n",
        "As you show, You can see that the value Yes/ No is almost eqaul to each others. Therefore, it is litterally mean that staff service does not affect to customer loyalty."
      ]
    },
    {
      "cell_type": "code",
      "metadata": {
        "colab": {
          "base_uri": "https://localhost:8080/",
          "height": 493
        },
        "id": "EgaoWBq1mKMM",
        "outputId": "a75ebe1d-eb0d-4004-917c-1b1e283d7f7d"
      },
      "source": [
        "sns.factorplot(data=dataset,kind='bar',x='20. Will you continue buying at Starbucks?',y='17. How would you rate the service at Starbucks? (Promptness, friendliness, etc..)')\n",
        "plt.title(\"Staff service Vs Loyalty\")\n",
        "plt.show()"
      ],
      "execution_count": 20,
      "outputs": [
        {
          "output_type": "stream",
          "text": [
            "/usr/local/lib/python3.6/dist-packages/seaborn/categorical.py:3704: UserWarning: The `factorplot` function has been renamed to `catplot`. The original name will be removed in a future release. Please update your code. Note that the default `kind` in `factorplot` (`'point'`) has changed `'strip'` in `catplot`.\n",
            "  warnings.warn(msg)\n"
          ],
          "name": "stderr"
        },
        {
          "output_type": "display_data",
          "data": {
            "image/png": "[encoded data removed]",
            "text/plain": [
              "<Figure size 360x360 with 1 Axes>"
            ]
          },
          "metadata": {
            "tags": [],
            "needs_background": "light"
          }
        }
      ]
    },
    {
      "cell_type": "markdown",
      "metadata": {
        "id": "d8XnpJakLJt6"
      },
      "source": [
        "#### 1.3.4 Feature Selection\n",
        "\n",
        "Reduce the independent varaible columns and target variable 1 column"
      ]
    },
    {
      "cell_type": "markdown",
      "metadata": {
        "id": "CriG6VzVSjcK"
      },
      "source": [
        "## 1.4Encoding categorical data\n",
        "\n",
        "in this process, I am not going to do onehotendcoding or create any dummy variables becuase I've prepare the dataset which endcoded already and just going to import!! the easiest way for me to convert catagoric ot numeric and also cleaning the missing value easier because it does only 2 values."
      ]
    },
    {
      "cell_type": "markdown",
      "metadata": {
        "id": "L8Id7caJUNYB"
      },
      "source": [
        "Definition of numeric after converting catagoric to numeric data\n",
        "\n",
        "**gender\tvalue**\n",
        "\n",
        "male\t0\n",
        "\n",
        "female\t1\n",
        "\t\n",
        "**age\tvalue**\n",
        "\n",
        "20-29\t1\n",
        "\n",
        "30-39\t2\n",
        "\n",
        "above 40\t3\n",
        "\t\n",
        "**status\tvalue**\n",
        "\n",
        "student\t0\n",
        "\n",
        "self-employed\t1\n",
        "\n",
        "employed\t2\n",
        "\n",
        "house-wife\t3\n",
        "\t\n",
        "**income\tvalue**\n",
        "\n",
        "more 25000 RM\t0\n",
        "\n",
        "25000 - 50000 RM\t1\n",
        "\n",
        "50000 - 100000 RM\t2\n",
        "\n",
        "100000 - 150000 RM\t3\n",
        "\n",
        "less 150000 RM\t4\n",
        "\t\n",
        "**visitinfo\tvalue**\n",
        "\n",
        "Daily\t0\n",
        "\n",
        "Weekly\t1\n",
        "\n",
        "Monthly\t2\n",
        "\n",
        "Rarely\t3\n",
        "\t\n",
        "**method\tvalue**\n",
        "\n",
        "dine-in\t0\n",
        "\n",
        "dirive-through\t1\n",
        "\n",
        "takeaway\t2\n",
        "\t\n",
        "**timespend\tvalue**\n",
        "\n",
        "below 30 mins\t0\n",
        "\n",
        "30 mins - 1 hr\t1\n",
        "\n",
        "1-2 hr\t2\n",
        "\n",
        "2-3 hr\t3\n",
        "\n",
        "between 3 hr\t4\n",
        "\t\n",
        "**location\tvalue**\n",
        "\n",
        "within 1km.\t0\n",
        "\n",
        "1-3km.\t1\n",
        "\n",
        "more than 3 km.\t2\n",
        "\n",
        "**membershipCard\tvalue**\n",
        "\n",
        "yes\t0\n",
        "\n",
        "no\t1\n",
        "\t\n",
        "**spendpurchase\tvalue**\n",
        "\n",
        "less than 20 RM\t1\n",
        "\n",
        "around 20-40 RM\t2\n",
        "\n",
        "more than 40 RM\t3\n",
        "\t\n",
        "**rate (price/ promotio / ambience / wifi / service / choose / )\tvalue**\n",
        "\n",
        "poor\t1\n",
        "\n",
        "general\t2\n",
        "\n",
        "fair\t3\n",
        "\n",
        "good\t4\n",
        "\n",
        "very good\t5\n",
        "\t\n",
        "**Others are catogorical datas and spliting into several columns**"
      ]
    },
    {
      "cell_type": "markdown",
      "metadata": {
        "id": "xDZYoirIgmh3"
      },
      "source": [
        "### 1.4.1Encoding dependent Variables"
      ]
    },
    {
      "cell_type": "code",
      "metadata": {
        "id": "zgK_QXuyPkHb"
      },
      "source": [
        "encodedataset = pd.read_csv('Starbucks satisfactory survey encode cleaned.csv')\n",
        "encodedataset.drop(['ambianceRate','wifiRate','serviceRate'], axis=1, inplace=True)\n",
        "X = dataset.iloc[:,1:-1].values # independent column\n",
        "y = dataset.iloc[:, -1].values # target column"
      ],
      "execution_count": 63,
      "outputs": []
    },
    {
      "cell_type": "code",
      "metadata": {
        "colab": {
          "base_uri": "https://localhost:8080/"
        },
        "id": "jGTa4X4bR6R6",
        "outputId": "01456ded-2af5-45a8-f8e6-39de1efe9f53"
      },
      "source": [
        "print(X)"
      ],
      "execution_count": 64,
      "outputs": [
        {
          "output_type": "stream",
          "text": [
            "[['Female' 'From 20 to 29' 'Student' ... 4 3\n",
            "  'Starbucks Website/Apps;Social Media;Emails;Deal sites (fave, iprice, etc...)']\n",
            " ['Female' 'From 20 to 29' 'Student' ... 5 2\n",
            "  'Social Media;In Store displays']\n",
            " ['Male' 'From 20 to 29' 'Employed' ... 4 3\n",
            "  'In Store displays;Billboards']\n",
            " ...\n",
            " ['Male' 'From 20 to 29' 'Student' ... 3 4\n",
            "  'Social Media;Through friends and word of mouth;In Store displays']\n",
            " ['Female' 'From 20 to 29' 'Employed' ... 4 4\n",
            "  'Social Media;Through friends and word of mouth;Billboards']\n",
            " ['Male' 'From 20 to 29' 'Employed' ... 3 2 'In Store displays']]\n"
          ],
          "name": "stdout"
        }
      ]
    },
    {
      "cell_type": "code",
      "metadata": {
        "colab": {
          "base_uri": "https://localhost:8080/"
        },
        "id": "QhcwQgN9SLoH",
        "outputId": "a0f2f5fe-3ac9-4826-90af-015a3f748133"
      },
      "source": [
        "print(y)"
      ],
      "execution_count": 65,
      "outputs": [
        {
          "output_type": "stream",
          "text": [
            "['Yes' 'Yes' 'Yes' 'No' 'Yes' 'Yes' 'Yes' 'Yes' 'Yes' 'Yes' 'Yes' 'No'\n",
            " 'Yes' 'Yes' 'No' 'No' 'Yes' 'Yes' 'Yes' 'Yes' 'No' 'Yes' 'No' 'Yes' 'Yes'\n",
            " 'Yes' 'No' 'Yes' 'Yes' 'Yes' 'Yes' 'Yes' 'Yes' 'No' 'Yes' 'No' 'Yes'\n",
            " 'Yes' 'Yes' 'Yes' 'Yes' 'Yes' 'Yes' 'Yes' 'Yes' 'Yes' 'Yes' 'Yes' 'Yes'\n",
            " 'Yes' 'Yes' 'No' 'Yes' 'Yes' 'Yes' 'Yes' 'Yes' 'Yes' 'Yes' 'Yes' 'Yes'\n",
            " 'Yes' 'Yes' 'Yes' 'No' 'No' 'Yes' 'No' 'No' 'Yes' 'Yes' 'Yes' 'Yes' 'Yes'\n",
            " 'Yes' 'Yes' 'Yes' 'Yes' 'No' 'No' 'No' 'No' 'Yes' 'Yes' 'No' 'Yes' 'Yes'\n",
            " 'Yes' 'Yes' 'Yes' 'Yes' 'Yes' 'No' 'Yes' 'Yes' 'Yes' 'Yes' 'Yes' 'Yes'\n",
            " 'Yes' 'Yes' 'Yes' 'Yes' 'Yes' 'No' 'Yes' 'Yes' 'Yes' 'No' 'No' 'No' 'Yes'\n",
            " 'No' 'Yes' 'No' 'Yes' 'Yes' 'Yes' 'Yes' 'No' 'Yes' 'No']\n"
          ],
          "name": "stdout"
        }
      ]
    },
    {
      "cell_type": "markdown",
      "metadata": {
        "id": "AhSpdQWeSsFh"
      },
      "source": [
        "### 1.4.2Encoding independent Variables\n",
        "\n",
        "convert the catagorical data to numerical data"
      ]
    },
    {
      "cell_type": "code",
      "metadata": {
        "colab": {
          "base_uri": "https://localhost:8080/"
        },
        "id": "PSkBa77Kb_4w",
        "outputId": "c8eaa817-5c70-4c98-9b43-04cb0bd7285d"
      },
      "source": [
        "encodedataset.info()"
      ],
      "execution_count": 66,
      "outputs": [
        {
          "output_type": "stream",
          "text": [
            "<class 'pandas.core.frame.DataFrame'>\n",
            "RangeIndex: 113 entries, 0 to 112\n",
            "Data columns (total 30 columns):\n",
            " #   Column                  Non-Null Count  Dtype\n",
            "---  ------                  --------------  -----\n",
            " 0   Id                      113 non-null    int64\n",
            " 1   gender                  113 non-null    int64\n",
            " 2   age                     113 non-null    int64\n",
            " 3   status                  113 non-null    int64\n",
            " 4   income                  113 non-null    int64\n",
            " 5   visitNo                 113 non-null    int64\n",
            " 6   method                  113 non-null    int64\n",
            " 7   timeSpend               113 non-null    int64\n",
            " 8   location                113 non-null    int64\n",
            " 9   membershipCard          113 non-null    int64\n",
            " 10  itemPurchaseCoffee      113 non-null    int64\n",
            " 11  itempurchaseCold        113 non-null    int64\n",
            " 12  itemPurchasePastries    113 non-null    int64\n",
            " 13  itemPurchaseJuices      113 non-null    int64\n",
            " 14  itemPurchaseSandwiches  113 non-null    int64\n",
            " 15  itemPurchaseOthers      113 non-null    int64\n",
            " 16  spendPurchase           113 non-null    int64\n",
            " 17  productRate             113 non-null    int64\n",
            " 18  priceRate               113 non-null    int64\n",
            " 19  promoRate               113 non-null    int64\n",
            " 20  chooseRate              113 non-null    int64\n",
            " 21  promoMethodApp          113 non-null    int64\n",
            " 22  promoMethodSoc          113 non-null    int64\n",
            " 23  promoMethodEmail        113 non-null    int64\n",
            " 24  promoMethodDeal         113 non-null    int64\n",
            " 25  promoMethodFriend       113 non-null    int64\n",
            " 26  promoMethodDisplay      113 non-null    int64\n",
            " 27  promoMethodBillboard    113 non-null    int64\n",
            " 28  promoMethodOthers       113 non-null    int64\n",
            " 29  loyal                   113 non-null    int64\n",
            "dtypes: int64(30)\n",
            "memory usage: 26.6 KB\n"
          ],
          "name": "stdout"
        }
      ]
    },
    {
      "cell_type": "markdown",
      "metadata": {
        "id": "FOdgoMtscDhZ"
      },
      "source": [
        "Now, you can see there is no missibng values"
      ]
    },
    {
      "cell_type": "code",
      "metadata": {
        "id": "7rrUctu-feVM"
      },
      "source": [
        "from sklearn.preprocessing import LabelEncoder\n",
        "label = LabelEncoder()\n",
        "encodedataset[\"loyal\"] = label.fit_transform(encodedataset.loyal)"
      ],
      "execution_count": 23,
      "outputs": []
    },
    {
      "cell_type": "code",
      "metadata": {
        "colab": {
          "base_uri": "https://localhost:8080/",
          "height": 812
        },
        "id": "B1Pb4Jdhfr-c",
        "outputId": "95180575-84b1-41ee-996a-99682a8dad91"
      },
      "source": [
        "encodedataset.info()\n",
        "encodedataset.head()"
      ],
      "execution_count": 24,
      "outputs": [
        {
          "output_type": "stream",
          "text": [
            "<class 'pandas.core.frame.DataFrame'>\n",
            "RangeIndex: 113 entries, 0 to 112\n",
            "Data columns (total 30 columns):\n",
            " #   Column                  Non-Null Count  Dtype\n",
            "---  ------                  --------------  -----\n",
            " 0   Id                      113 non-null    int64\n",
            " 1   gender                  113 non-null    int64\n",
            " 2   age                     113 non-null    int64\n",
            " 3   status                  113 non-null    int64\n",
            " 4   income                  113 non-null    int64\n",
            " 5   visitNo                 113 non-null    int64\n",
            " 6   method                  113 non-null    int64\n",
            " 7   timeSpend               113 non-null    int64\n",
            " 8   location                113 non-null    int64\n",
            " 9   membershipCard          113 non-null    int64\n",
            " 10  itemPurchaseCoffee      113 non-null    int64\n",
            " 11  itempurchaseCold        113 non-null    int64\n",
            " 12  itemPurchasePastries    113 non-null    int64\n",
            " 13  itemPurchaseJuices      113 non-null    int64\n",
            " 14  itemPurchaseSandwiches  113 non-null    int64\n",
            " 15  itemPurchaseOthers      113 non-null    int64\n",
            " 16  spendPurchase           113 non-null    int64\n",
            " 17  productRate             113 non-null    int64\n",
            " 18  priceRate               113 non-null    int64\n",
            " 19  promoRate               113 non-null    int64\n",
            " 20  chooseRate              113 non-null    int64\n",
            " 21  promoMethodApp          113 non-null    int64\n",
            " 22  promoMethodSoc          113 non-null    int64\n",
            " 23  promoMethodEmail        113 non-null    int64\n",
            " 24  promoMethodDeal         113 non-null    int64\n",
            " 25  promoMethodFriend       113 non-null    int64\n",
            " 26  promoMethodDisplay      113 non-null    int64\n",
            " 27  promoMethodBillboard    113 non-null    int64\n",
            " 28  promoMethodOthers       113 non-null    int64\n",
            " 29  loyal                   113 non-null    int64\n",
            "dtypes: int64(30)\n",
            "memory usage: 26.6 KB\n"
          ],
          "name": "stdout"
        },
        {
          "output_type": "execute_result",
          "data": {
            "text/html": [
              "<div>\n",
              "<style scoped>\n",
              "    .dataframe tbody tr th:only-of-type {\n",
              "        vertical-align: middle;\n",
              "    }\n",
              "\n",
              "    .dataframe tbody tr th {\n",
              "        vertical-align: top;\n",
              "    }\n",
              "\n",
              "    .dataframe thead th {\n",
              "        text-align: right;\n",
              "    }\n",
              "</style>\n",
              "<table border=\"1\" class=\"dataframe\">\n",
              "  <thead>\n",
              "    <tr style=\"text-align: right;\">\n",
              "      <th></th>\n",
              "      <th>Id</th>\n",
              "      <th>gender</th>\n",
              "      <th>age</th>\n",
              "      <th>status</th>\n",
              "      <th>income</th>\n",
              "      <th>visitNo</th>\n",
              "      <th>method</th>\n",
              "      <th>timeSpend</th>\n",
              "      <th>location</th>\n",
              "      <th>membershipCard</th>\n",
              "      <th>itemPurchaseCoffee</th>\n",
              "      <th>itempurchaseCold</th>\n",
              "      <th>itemPurchasePastries</th>\n",
              "      <th>itemPurchaseJuices</th>\n",
              "      <th>itemPurchaseSandwiches</th>\n",
              "      <th>itemPurchaseOthers</th>\n",
              "      <th>spendPurchase</th>\n",
              "      <th>productRate</th>\n",
              "      <th>priceRate</th>\n",
              "      <th>promoRate</th>\n",
              "      <th>chooseRate</th>\n",
              "      <th>promoMethodApp</th>\n",
              "      <th>promoMethodSoc</th>\n",
              "      <th>promoMethodEmail</th>\n",
              "      <th>promoMethodDeal</th>\n",
              "      <th>promoMethodFriend</th>\n",
              "      <th>promoMethodDisplay</th>\n",
              "      <th>promoMethodBillboard</th>\n",
              "      <th>promoMethodOthers</th>\n",
              "      <th>loyal</th>\n",
              "    </tr>\n",
              "  </thead>\n",
              "  <tbody>\n",
              "    <tr>\n",
              "      <th>0</th>\n",
              "      <td>1</td>\n",
              "      <td>1</td>\n",
              "      <td>1</td>\n",
              "      <td>0</td>\n",
              "      <td>0</td>\n",
              "      <td>3</td>\n",
              "      <td>0</td>\n",
              "      <td>1</td>\n",
              "      <td>0</td>\n",
              "      <td>0</td>\n",
              "      <td>1</td>\n",
              "      <td>1</td>\n",
              "      <td>1</td>\n",
              "      <td>1</td>\n",
              "      <td>1</td>\n",
              "      <td>1</td>\n",
              "      <td>1</td>\n",
              "      <td>4</td>\n",
              "      <td>3</td>\n",
              "      <td>5</td>\n",
              "      <td>3</td>\n",
              "      <td>1</td>\n",
              "      <td>1</td>\n",
              "      <td>1</td>\n",
              "      <td>1</td>\n",
              "      <td>1</td>\n",
              "      <td>1</td>\n",
              "      <td>1</td>\n",
              "      <td>1</td>\n",
              "      <td>0</td>\n",
              "    </tr>\n",
              "    <tr>\n",
              "      <th>1</th>\n",
              "      <td>2</td>\n",
              "      <td>1</td>\n",
              "      <td>1</td>\n",
              "      <td>0</td>\n",
              "      <td>0</td>\n",
              "      <td>3</td>\n",
              "      <td>2</td>\n",
              "      <td>0</td>\n",
              "      <td>1</td>\n",
              "      <td>0</td>\n",
              "      <td>1</td>\n",
              "      <td>1</td>\n",
              "      <td>1</td>\n",
              "      <td>1</td>\n",
              "      <td>1</td>\n",
              "      <td>1</td>\n",
              "      <td>1</td>\n",
              "      <td>4</td>\n",
              "      <td>3</td>\n",
              "      <td>4</td>\n",
              "      <td>2</td>\n",
              "      <td>1</td>\n",
              "      <td>1</td>\n",
              "      <td>1</td>\n",
              "      <td>1</td>\n",
              "      <td>1</td>\n",
              "      <td>1</td>\n",
              "      <td>1</td>\n",
              "      <td>1</td>\n",
              "      <td>0</td>\n",
              "    </tr>\n",
              "    <tr>\n",
              "      <th>2</th>\n",
              "      <td>3</td>\n",
              "      <td>0</td>\n",
              "      <td>1</td>\n",
              "      <td>2</td>\n",
              "      <td>0</td>\n",
              "      <td>2</td>\n",
              "      <td>0</td>\n",
              "      <td>1</td>\n",
              "      <td>2</td>\n",
              "      <td>0</td>\n",
              "      <td>1</td>\n",
              "      <td>1</td>\n",
              "      <td>1</td>\n",
              "      <td>1</td>\n",
              "      <td>1</td>\n",
              "      <td>1</td>\n",
              "      <td>1</td>\n",
              "      <td>4</td>\n",
              "      <td>3</td>\n",
              "      <td>4</td>\n",
              "      <td>3</td>\n",
              "      <td>1</td>\n",
              "      <td>1</td>\n",
              "      <td>1</td>\n",
              "      <td>1</td>\n",
              "      <td>1</td>\n",
              "      <td>1</td>\n",
              "      <td>1</td>\n",
              "      <td>1</td>\n",
              "      <td>0</td>\n",
              "    </tr>\n",
              "    <tr>\n",
              "      <th>3</th>\n",
              "      <td>4</td>\n",
              "      <td>1</td>\n",
              "      <td>1</td>\n",
              "      <td>0</td>\n",
              "      <td>0</td>\n",
              "      <td>3</td>\n",
              "      <td>2</td>\n",
              "      <td>0</td>\n",
              "      <td>2</td>\n",
              "      <td>1</td>\n",
              "      <td>1</td>\n",
              "      <td>1</td>\n",
              "      <td>1</td>\n",
              "      <td>1</td>\n",
              "      <td>1</td>\n",
              "      <td>1</td>\n",
              "      <td>1</td>\n",
              "      <td>2</td>\n",
              "      <td>1</td>\n",
              "      <td>4</td>\n",
              "      <td>3</td>\n",
              "      <td>1</td>\n",
              "      <td>1</td>\n",
              "      <td>1</td>\n",
              "      <td>1</td>\n",
              "      <td>1</td>\n",
              "      <td>1</td>\n",
              "      <td>1</td>\n",
              "      <td>1</td>\n",
              "      <td>1</td>\n",
              "    </tr>\n",
              "    <tr>\n",
              "      <th>4</th>\n",
              "      <td>5</td>\n",
              "      <td>0</td>\n",
              "      <td>1</td>\n",
              "      <td>0</td>\n",
              "      <td>0</td>\n",
              "      <td>2</td>\n",
              "      <td>2</td>\n",
              "      <td>1</td>\n",
              "      <td>1</td>\n",
              "      <td>1</td>\n",
              "      <td>1</td>\n",
              "      <td>1</td>\n",
              "      <td>1</td>\n",
              "      <td>1</td>\n",
              "      <td>1</td>\n",
              "      <td>1</td>\n",
              "      <td>2</td>\n",
              "      <td>3</td>\n",
              "      <td>3</td>\n",
              "      <td>4</td>\n",
              "      <td>3</td>\n",
              "      <td>1</td>\n",
              "      <td>1</td>\n",
              "      <td>1</td>\n",
              "      <td>1</td>\n",
              "      <td>1</td>\n",
              "      <td>1</td>\n",
              "      <td>1</td>\n",
              "      <td>1</td>\n",
              "      <td>0</td>\n",
              "    </tr>\n",
              "  </tbody>\n",
              "</table>\n",
              "</div>"
            ],
            "text/plain": [
              "   Id  gender  age  ...  promoMethodBillboard  promoMethodOthers  loyal\n",
              "0   1       1    1  ...                     1                  1      0\n",
              "1   2       1    1  ...                     1                  1      0\n",
              "2   3       0    1  ...                     1                  1      0\n",
              "3   4       1    1  ...                     1                  1      1\n",
              "4   5       0    1  ...                     1                  1      0\n",
              "\n",
              "[5 rows x 30 columns]"
            ]
          },
          "metadata": {
            "tags": []
          },
          "execution_count": 24
        }
      ]
    },
    {
      "cell_type": "markdown",
      "metadata": {
        "id": "qb_vcgm3qZKW"
      },
      "source": [
        "## 1.5Splitting the dataset into the Training set and Test set"
      ]
    },
    {
      "cell_type": "code",
      "metadata": {
        "id": "-0zWsPc2mTkl"
      },
      "source": [
        "X = encodedataset.drop(['loyal'], axis = 1) #independent variable\n",
        "y = encodedataset['loyal'] #dependent variable"
      ],
      "execution_count": 25,
      "outputs": []
    },
    {
      "cell_type": "code",
      "metadata": {
        "colab": {
          "base_uri": "https://localhost:8080/"
        },
        "id": "QHSru-Dlpo3N",
        "outputId": "d09ccf32-edb8-42dc-ba96-9499e0940ef7"
      },
      "source": [
        "print(X)"
      ],
      "execution_count": 26,
      "outputs": [
        {
          "output_type": "stream",
          "text": [
            "      Id  gender  ...  promoMethodBillboard  promoMethodOthers\n",
            "0      1       1  ...                     1                  1\n",
            "1      2       1  ...                     1                  1\n",
            "2      3       0  ...                     1                  1\n",
            "3      4       1  ...                     1                  1\n",
            "4      5       0  ...                     1                  1\n",
            "..   ...     ...  ...                   ...                ...\n",
            "108  118       0  ...                     1                  1\n",
            "109  119       0  ...                     1                  1\n",
            "110  120       0  ...                     1                  1\n",
            "111  121       1  ...                     1                  1\n",
            "112  122       0  ...                     1                  1\n",
            "\n",
            "[113 rows x 29 columns]\n"
          ],
          "name": "stdout"
        }
      ]
    },
    {
      "cell_type": "code",
      "metadata": {
        "colab": {
          "base_uri": "https://localhost:8080/"
        },
        "id": "-J3M207Spq0f",
        "outputId": "b98d0784-778c-49ac-d2e0-a9b6bda0e7f5"
      },
      "source": [
        "print(y)"
      ],
      "execution_count": 27,
      "outputs": [
        {
          "output_type": "stream",
          "text": [
            "0      0\n",
            "1      0\n",
            "2      0\n",
            "3      1\n",
            "4      0\n",
            "      ..\n",
            "108    0\n",
            "109    0\n",
            "110    1\n",
            "111    0\n",
            "112    1\n",
            "Name: loyal, Length: 113, dtype: int64\n"
          ],
          "name": "stdout"
        }
      ]
    },
    {
      "cell_type": "code",
      "metadata": {
        "id": "pXgA6CzlqbCl"
      },
      "source": [
        "from sklearn.model_selection import train_test_split\n",
        "X_train, X_test, y_train, y_test = train_test_split(X, y, test_size = 0.2, random_state = 1)"
      ],
      "execution_count": 28,
      "outputs": []
    },
    {
      "cell_type": "code",
      "metadata": {
        "id": "GuwQhFdKrYTM",
        "colab": {
          "base_uri": "https://localhost:8080/"
        },
        "outputId": "7acba2e6-83a0-4a4f-acb6-42bbb9d887c9"
      },
      "source": [
        "print(X_train)"
      ],
      "execution_count": 29,
      "outputs": [
        {
          "output_type": "stream",
          "text": [
            "      Id  gender  ...  promoMethodBillboard  promoMethodOthers\n",
            "54    58       0  ...                     1                  1\n",
            "90    97       1  ...                     1                  1\n",
            "33    34       1  ...                     1                  1\n",
            "67    72       0  ...                     1                  1\n",
            "48    52       1  ...                     1                  1\n",
            "..   ...     ...  ...                   ...                ...\n",
            "9     10       0  ...                     1                  1\n",
            "72    77       0  ...                     1                  1\n",
            "12    13       1  ...                     1                  1\n",
            "107  117       0  ...                     1                  1\n",
            "37    38       0  ...                     1                  1\n",
            "\n",
            "[90 rows x 29 columns]\n"
          ],
          "name": "stdout"
        }
      ]
    },
    {
      "cell_type": "code",
      "metadata": {
        "id": "TUrX_Tvcrbi4",
        "colab": {
          "base_uri": "https://localhost:8080/"
        },
        "outputId": "deab64b2-a603-4809-f6f9-d15bb0e68c20"
      },
      "source": [
        "print(X_test)"
      ],
      "execution_count": 30,
      "outputs": [
        {
          "output_type": "stream",
          "text": [
            "      Id  gender  ...  promoMethodBillboard  promoMethodOthers\n",
            "92    99       1  ...                     1                  1\n",
            "44    48       1  ...                     1                  1\n",
            "56    60       1  ...                     1                  1\n",
            "82    88       1  ...                     1                  1\n",
            "69    74       0  ...                     1                  1\n",
            "104  114       1  ...                     1                  1\n",
            "100  107       0  ...                     1                  1\n",
            "58    62       1  ...                     1                  1\n",
            "35    36       1  ...                     1                  1\n",
            "38    39       0  ...                     1                  1\n",
            "65    70       1  ...                     1                  1\n",
            "93   100       0  ...                     1                  1\n",
            "2      3       0  ...                     1                  1\n",
            "101  110       0  ...                     1                  1\n",
            "106  116       0  ...                     1                  1\n",
            "53    57       1  ...                     1                  1\n",
            "99   106       0  ...                     1                  1\n",
            "96   103       0  ...                     1                  1\n",
            "91    98       1  ...                     1                  1\n",
            "42    44       1  ...                     1                  1\n",
            "74    79       1  ...                     1                  1\n",
            "17    18       0  ...                     1                  1\n",
            "78    84       0  ...                     1                  1\n",
            "\n",
            "[23 rows x 29 columns]\n"
          ],
          "name": "stdout"
        }
      ]
    },
    {
      "cell_type": "code",
      "metadata": {
        "id": "pSMHiIsWreQY",
        "colab": {
          "base_uri": "https://localhost:8080/"
        },
        "outputId": "e64ba7a8-241a-49e3-ccc5-f58be7791bee"
      },
      "source": [
        "print(y_train)"
      ],
      "execution_count": 31,
      "outputs": [
        {
          "output_type": "stream",
          "text": [
            "54     0\n",
            "90     0\n",
            "33     1\n",
            "67     0\n",
            "48     1\n",
            "      ..\n",
            "9      0\n",
            "72     0\n",
            "12     0\n",
            "107    0\n",
            "37     0\n",
            "Name: loyal, Length: 90, dtype: int64\n"
          ],
          "name": "stdout"
        }
      ]
    },
    {
      "cell_type": "code",
      "metadata": {
        "id": "I_tW7H56rgtW",
        "colab": {
          "base_uri": "https://localhost:8080/"
        },
        "outputId": "24cca47c-7b85-41b8-b002-557c308fd478"
      },
      "source": [
        "print(y_test)"
      ],
      "execution_count": 32,
      "outputs": [
        {
          "output_type": "stream",
          "text": [
            "92     0\n",
            "44     0\n",
            "56     0\n",
            "82     0\n",
            "69     0\n",
            "104    0\n",
            "100    0\n",
            "58     0\n",
            "35     1\n",
            "38     0\n",
            "65     0\n",
            "93     0\n",
            "2      0\n",
            "101    1\n",
            "106    0\n",
            "53     0\n",
            "99     0\n",
            "96     0\n",
            "91     0\n",
            "42     0\n",
            "74     1\n",
            "17     0\n",
            "78     0\n",
            "Name: loyal, dtype: int64\n"
          ],
          "name": "stdout"
        }
      ]
    },
    {
      "cell_type": "markdown",
      "metadata": {
        "id": "TpGqbS4TqkIR"
      },
      "source": [
        "## 1.6Feature Scaling"
      ]
    },
    {
      "cell_type": "markdown",
      "metadata": {
        "id": "amxMaiZmrW6q"
      },
      "source": [
        "Change numeric value to Z-transformation to reduce the deviation from final dataset (Not include variable previously catagory because it might change the interpretion)"
      ]
    },
    {
      "cell_type": "code",
      "metadata": {
        "id": "AxjSUXFQqo-3",
        "colab": {
          "base_uri": "https://localhost:8080/"
        },
        "outputId": "e5ee0d66-3f40-485b-ff9b-a9575d28f780"
      },
      "source": [
        "from sklearn.preprocessing import StandardScaler\n",
        "sc = StandardScaler()\n",
        "X_train.iloc[:,:9] = sc.fit_transform(X_train.iloc[:,:9])\n",
        "X_test.iloc[:,:9] = sc.transform(X_test.iloc[:,:9])"
      ],
      "execution_count": 33,
      "outputs": [
        {
          "output_type": "stream",
          "text": [
            "/usr/local/lib/python3.6/dist-packages/pandas/core/indexing.py:1734: SettingWithCopyWarning: \n",
            "A value is trying to be set on a copy of a slice from a DataFrame.\n",
            "Try using .loc[row_indexer,col_indexer] = value instead\n",
            "\n",
            "See the caveats in the documentation: https://pandas.pydata.org/pandas-docs/stable/user_guide/indexing.html#returning-a-view-versus-a-copy\n",
            "  isetter(loc, value[:, i].tolist())\n",
            "/usr/local/lib/python3.6/dist-packages/pandas/core/indexing.py:1734: SettingWithCopyWarning: \n",
            "A value is trying to be set on a copy of a slice from a DataFrame.\n",
            "Try using .loc[row_indexer,col_indexer] = value instead\n",
            "\n",
            "See the caveats in the documentation: https://pandas.pydata.org/pandas-docs/stable/user_guide/indexing.html#returning-a-view-versus-a-copy\n",
            "  isetter(loc, value[:, i].tolist())\n"
          ],
          "name": "stderr"
        }
      ]
    },
    {
      "cell_type": "code",
      "metadata": {
        "id": "DWPET8ZdlMnu",
        "colab": {
          "base_uri": "https://localhost:8080/"
        },
        "outputId": "1892edd0-38e0-4c8e-8077-3da1ac846749"
      },
      "source": [
        "print(X_train)"
      ],
      "execution_count": 34,
      "outputs": [
        {
          "output_type": "stream",
          "text": [
            "           Id    gender  ...  promoMethodBillboard  promoMethodOthers\n",
            "54   0.043311 -1.045478  ...                     1                  1\n",
            "90   1.144908  0.956501  ...                     1                  1\n",
            "33  -0.634595  0.956501  ...                     1                  1\n",
            "67   0.438756 -1.045478  ...                     1                  1\n",
            "48  -0.126166  0.956501  ...                     1                  1\n",
            "..        ...       ...  ...                   ...                ...\n",
            "9   -1.312501 -1.045478  ...                     1                  1\n",
            "72   0.579986 -1.045478  ...                     1                  1\n",
            "12  -1.227763  0.956501  ...                     1                  1\n",
            "107  1.709830 -1.045478  ...                     1                  1\n",
            "37  -0.521611 -1.045478  ...                     1                  1\n",
            "\n",
            "[90 rows x 29 columns]\n"
          ],
          "name": "stdout"
        }
      ]
    },
    {
      "cell_type": "code",
      "metadata": {
        "id": "sTXykB_QlRjE",
        "colab": {
          "base_uri": "https://localhost:8080/"
        },
        "outputId": "2ab686a3-7f75-4eb3-a4f4-533d61d1fe2b"
      },
      "source": [
        "print(X_test)"
      ],
      "execution_count": 35,
      "outputs": [
        {
          "output_type": "stream",
          "text": [
            "           Id    gender  ...  promoMethodBillboard  promoMethodOthers\n",
            "92   1.201400  0.956501  ...                     1                  1\n",
            "44  -0.239150  0.956501  ...                     1                  1\n",
            "56   0.099803  0.956501  ...                     1                  1\n",
            "82   0.890693  0.956501  ...                     1                  1\n",
            "69   0.495248 -1.045478  ...                     1                  1\n",
            "104  1.625091  0.956501  ...                     1                  1\n",
            "100  1.427369 -1.045478  ...                     1                  1\n",
            "58   0.156295  0.956501  ...                     1                  1\n",
            "35  -0.578103  0.956501  ...                     1                  1\n",
            "38  -0.493365 -1.045478  ...                     1                  1\n",
            "65   0.382264  0.956501  ...                     1                  1\n",
            "93   1.229646 -1.045478  ...                     1                  1\n",
            "2   -1.510224 -1.045478  ...                     1                  1\n",
            "101  1.512107 -1.045478  ...                     1                  1\n",
            "106  1.681583 -1.045478  ...                     1                  1\n",
            "53   0.015065  0.956501  ...                     1                  1\n",
            "99   1.399123 -1.045478  ...                     1                  1\n",
            "96   1.314384 -1.045478  ...                     1                  1\n",
            "91   1.173154  0.956501  ...                     1                  1\n",
            "42  -0.352135  0.956501  ...                     1                  1\n",
            "74   0.636478  0.956501  ...                     1                  1\n",
            "17  -1.086533 -1.045478  ...                     1                  1\n",
            "78   0.777709 -1.045478  ...                     1                  1\n",
            "\n",
            "[23 rows x 29 columns]\n"
          ],
          "name": "stdout"
        }
      ]
    },
    {
      "cell_type": "markdown",
      "metadata": {
        "id": "37puETfgRzzg"
      },
      "source": [
        "# 2.Data modeling"
      ]
    },
    {
      "cell_type": "markdown",
      "metadata": {
        "id": "nOHWv5sSm_F4"
      },
      "source": [
        "## 2.1Logistic Regression method"
      ]
    },
    {
      "cell_type": "code",
      "metadata": {
        "colab": {
          "base_uri": "https://localhost:8080/"
        },
        "id": "_hn8MoEfm-cs",
        "outputId": "2dc32791-f18c-439a-8406-e9b4c1561893"
      },
      "source": [
        "from sklearn.linear_model import LogisticRegression # import supervior ML which is logisticregression\n",
        "logis_regressor = LogisticRegression() # Create a logistic regression classifier \n",
        "logis_regressor.fit(X_train, y_train) # Train the model using the training sets "
      ],
      "execution_count": 73,
      "outputs": [
        {
          "output_type": "execute_result",
          "data": {
            "text/plain": [
              "LogisticRegression(C=1.0, class_weight=None, dual=False, fit_intercept=True,\n",
              "                   intercept_scaling=1, l1_ratio=None, max_iter=100,\n",
              "                   multi_class='auto', n_jobs=None, penalty='l2',\n",
              "                   random_state=None, solver='lbfgs', tol=0.0001, verbose=0,\n",
              "                   warm_start=False)"
            ]
          },
          "metadata": {
            "tags": []
          },
          "execution_count": 73
        }
      ]
    },
    {
      "cell_type": "code",
      "metadata": {
        "id": "L3D4HF0IssTP"
      },
      "source": [
        "y_predict = logis_regressor.predict(X_test) # predict on the test data"
      ],
      "execution_count": 74,
      "outputs": []
    },
    {
      "cell_type": "code",
      "metadata": {
        "colab": {
          "base_uri": "https://localhost:8080/"
        },
        "id": "93lIUPEws3ly",
        "outputId": "9a7e0db4-bee6-466f-9b95-e2fc0fd3a8d7"
      },
      "source": [
        "print(y_predict)"
      ],
      "execution_count": 75,
      "outputs": [
        {
          "output_type": "stream",
          "text": [
            "[0 1 0 0 0 0 0 0 1 0 0 0 0 0 0 0 0 0 0 0 1 0 0]\n"
          ],
          "name": "stdout"
        }
      ]
    },
    {
      "cell_type": "markdown",
      "metadata": {
        "id": "bCmoBlQst0aw"
      },
      "source": [
        "# 3.Data evaluation"
      ]
    },
    {
      "cell_type": "markdown",
      "metadata": {
        "id": "dRWa1ccEt5nb"
      },
      "source": [
        "## 3.1 Evaluation of logistic regression"
      ]
    },
    {
      "cell_type": "code",
      "metadata": {
        "colab": {
          "base_uri": "https://localhost:8080/"
        },
        "id": "k9IeNZmos87-",
        "outputId": "0e2903db-a435-4c79-a1f7-81335fb40a5e"
      },
      "source": [
        "from sklearn import metrics\n",
        "logis_accur = round( metrics.accuracy_score(y_test, y_predict) * 100, 2 )\n",
        "print( 'Total Accuracy : ', logis_accur )\n",
        "print( 'Precision : ', round( metrics.precision_score(y_test, y_predict) * 100, 2 ) )\n",
        "print( 'Recall : ', round( metrics.recall_score(y_test, y_predict) * 100, 2 ) )"
      ],
      "execution_count": 73,
      "outputs": [
        {
          "output_type": "stream",
          "text": [
            "Total Accuracy :  91.3\n",
            "Precision :  66.67\n",
            "Recall :  66.67\n"
          ],
          "name": "stdout"
        }
      ]
    },
    {
      "cell_type": "code",
      "metadata": {
        "colab": {
          "base_uri": "https://localhost:8080/",
          "height": 736
        },
        "id": "5NI9T2RXQ0px",
        "outputId": "f9f2f5f8-340c-4526-fe84-e7bd0bce04a9"
      },
      "source": [
        "# get features importance\n",
        "importance = logis_regressor.coef_[0]\n",
        "# summarize feature importance\n",
        "for i,v in enumerate(importance):\n",
        "\tprint('Feature: %0d, Score: %.5f' % (i,v))\n",
        "# plot feature importance\n",
        "plt.bar([x for x in range(len(importance))], importance)\n",
        "plt.show()"
      ],
      "execution_count": 49,
      "outputs": [
        {
          "output_type": "stream",
          "text": [
            "Feature: 0, Score: 0.32649\n",
            "Feature: 1, Score: 0.37498\n",
            "Feature: 2, Score: -0.24681\n",
            "Feature: 3, Score: -0.31828\n",
            "Feature: 4, Score: 0.57717\n",
            "Feature: 5, Score: 1.00607\n",
            "Feature: 6, Score: -0.00688\n",
            "Feature: 7, Score: 0.83002\n",
            "Feature: 8, Score: -0.07278\n",
            "Feature: 9, Score: 0.73141\n",
            "Feature: 10, Score: -0.00000\n",
            "Feature: 11, Score: -0.00000\n",
            "Feature: 12, Score: -0.00000\n",
            "Feature: 13, Score: -0.00000\n",
            "Feature: 14, Score: -0.00000\n",
            "Feature: 15, Score: -0.00000\n",
            "Feature: 16, Score: -1.41350\n",
            "Feature: 17, Score: -0.45048\n",
            "Feature: 18, Score: -1.21835\n",
            "Feature: 19, Score: 0.02379\n",
            "Feature: 20, Score: -0.47683\n",
            "Feature: 21, Score: -0.00000\n",
            "Feature: 22, Score: -0.00000\n",
            "Feature: 23, Score: -0.00000\n",
            "Feature: 24, Score: -0.00000\n",
            "Feature: 25, Score: -0.00000\n",
            "Feature: 26, Score: -0.00000\n",
            "Feature: 27, Score: -0.00000\n",
            "Feature: 28, Score: -0.29510\n"
          ],
          "name": "stdout"
        },
        {
          "output_type": "display_data",
          "data": {
            "image/png": "[encoded data removed]",
            "text/plain": [
              "<Figure size 432x288 with 1 Axes>"
            ]
          },
          "metadata": {
            "tags": [],
            "needs_background": "light"
          }
        }
      ]
    },
    {
      "cell_type": "code",
      "metadata": {
        "colab": {
          "base_uri": "https://localhost:8080/"
        },
        "id": "WEWldqhbQ-0l",
        "outputId": "e3918e75-8c00-46a0-8aa5-c462b1455244"
      },
      "source": [
        "encodedataset.info()"
      ],
      "execution_count": 50,
      "outputs": [
        {
          "output_type": "stream",
          "text": [
            "<class 'pandas.core.frame.DataFrame'>\n",
            "RangeIndex: 113 entries, 0 to 112\n",
            "Data columns (total 30 columns):\n",
            " #   Column                  Non-Null Count  Dtype\n",
            "---  ------                  --------------  -----\n",
            " 0   Id                      113 non-null    int64\n",
            " 1   gender                  113 non-null    int64\n",
            " 2   age                     113 non-null    int64\n",
            " 3   status                  113 non-null    int64\n",
            " 4   income                  113 non-null    int64\n",
            " 5   visitNo                 113 non-null    int64\n",
            " 6   method                  113 non-null    int64\n",
            " 7   timeSpend               113 non-null    int64\n",
            " 8   location                113 non-null    int64\n",
            " 9   membershipCard          113 non-null    int64\n",
            " 10  itemPurchaseCoffee      113 non-null    int64\n",
            " 11  itempurchaseCold        113 non-null    int64\n",
            " 12  itemPurchasePastries    113 non-null    int64\n",
            " 13  itemPurchaseJuices      113 non-null    int64\n",
            " 14  itemPurchaseSandwiches  113 non-null    int64\n",
            " 15  itemPurchaseOthers      113 non-null    int64\n",
            " 16  spendPurchase           113 non-null    int64\n",
            " 17  productRate             113 non-null    int64\n",
            " 18  priceRate               113 non-null    int64\n",
            " 19  promoRate               113 non-null    int64\n",
            " 20  chooseRate              113 non-null    int64\n",
            " 21  promoMethodApp          113 non-null    int64\n",
            " 22  promoMethodSoc          113 non-null    int64\n",
            " 23  promoMethodEmail        113 non-null    int64\n",
            " 24  promoMethodDeal         113 non-null    int64\n",
            " 25  promoMethodFriend       113 non-null    int64\n",
            " 26  promoMethodDisplay      113 non-null    int64\n",
            " 27  promoMethodBillboard    113 non-null    int64\n",
            " 28  promoMethodOthers       113 non-null    int64\n",
            " 29  loyal                   113 non-null    int64\n",
            "dtypes: int64(30)\n",
            "memory usage: 26.6 KB\n"
          ],
          "name": "stdout"
        }
      ]
    }
  ]
}
